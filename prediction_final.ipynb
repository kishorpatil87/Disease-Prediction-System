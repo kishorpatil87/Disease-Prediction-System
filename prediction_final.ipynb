{
 "cells": [
  {
   "cell_type": "code",
   "execution_count": 1,
   "id": "054d02d2-7c82-4642-94f2-72b49df83019",
   "metadata": {},
   "outputs": [
    {
     "ename": "NameError",
     "evalue": "name 'pd' is not defined",
     "output_type": "error",
     "traceback": [
      "\u001b[1;31m---------------------------------------------------------------------------\u001b[0m",
      "\u001b[1;31mNameError\u001b[0m                                 Traceback (most recent call last)",
      "Cell \u001b[1;32mIn[1], line 1\u001b[0m\n\u001b[1;32m----> 1\u001b[0m df_tempr \u001b[38;5;241m=\u001b[39m \u001b[43mpd\u001b[49m\u001b[38;5;241m.\u001b[39mread_csv(\u001b[38;5;124m'\u001b[39m\u001b[38;5;124mdisease_with_description.csv\u001b[39m\u001b[38;5;124m'\u001b[39m)\n\u001b[0;32m      2\u001b[0m df_tempr\u001b[38;5;241m.\u001b[39mhead()\n",
      "\u001b[1;31mNameError\u001b[0m: name 'pd' is not defined"
     ]
    }
   ],
   "source": [
    "df_tempr = pd.read_csv('disease_with_description.csv')\n",
    "df_tempr.head()"
   ]
  },
  {
   "cell_type": "code",
   "execution_count": null,
   "id": "cf593a1c-3aa2-4654-b27a-f56736cb006a",
   "metadata": {},
   "outputs": [
    {
     "name": "stdout",
     "output_type": "stream",
     "text": [
      "                                         Description           D_Name\n",
      "0  bone, muscle, ear, otitis, hearing, airway, me...  musculoskeletal\n",
      "1  ear, otitis, hearing, nose, bleeding, sinusiti...         ear_nose\n",
      "2  ventilation, oxygen, airway, dyspnea, copd, br...      respiratory\n"
     ]
    }
   ],
   "source": [
    "import pandas as pd\n",
    "\n",
    "# Load the CSV file\n",
    "df_tempr = pd.read_csv('disease_with_description.csv')\n",
    "\n",
    "# Define expanded keywords for each main disease\n",
    "disease_keywords = {\n",
    "    \"musculoskeletal\": \"pain, joint pain, muscle pain, stiffness, swelling, tenderness, soreness, aching, inflammation, arthritis, osteoarthritis, rheumatoid arthritis, tendonitis, bursitis, sprain, strain, fracture, osteoporosis, dislocation, degeneration, weakness, immobility, cramps, spasms, fatigue, myalgia, dystrophy, back pain, lower back pain, upper back pain, neck pain, sciatica, scoliosis, fibromyalgia, joint stiffness, cartilage damage, bone fracture, ligament tear, tendon rupture, muscle fatigue, muscle spasm, chronic pain, mobility issues, gout, lupus, nerve pain, disc herniation, frozen shoulder, repetitive strain injury (RSI), degenerative disc disease\",\n",
    "    \"ear_nose\": \"ear pain, hearing loss, tinnitus, vertigo, dizziness, ear infection, fluid buildup, nasal congestion, sinus pain, sinusitis, runny nose, sneezing, allergy, stuffy nose, sore throat, hoarseness, difficulty swallowing, tonsillitis, cough, postnasal drip, otitis media, sinus infection, allergic rhinitis, deviated septum, swollen lymph nodes, throat irritation, laryngitis, nasal polyps, sleep apnea, difficulty breathing through nose, chronic sinusitis, postnasal congestion, adenoiditis, ear pressure, muffled hearing, voice changes, chronic cough, flu symptoms, nasal obstruction, vocal cord strain, swollen tonsils, nasal dryness, Eustachian tube dysfunction\",\n",
    "    \"respiratory\": \"shortness of breath, wheezing, chest tightness, coughing, mucus, choking, asthma, bronchitis, pneumonia, COPD, tuberculosis, lung infection, sore throat, flu, fever, congestion, difficulty breathing, sinus infection, dust, smoke, allergy, hay fever, pollution, inflammation, asthma attack, chronic bronchitis, lung fibrosis, chest discomfort, respiratory distress, nasal drip, persistent cough, pleurisy, pulmonary edema, respiratory failure, respiratory tract infection, lung congestion, wheezy breathing, labored breathing, viral pneumonia, bacterial pneumonia, emphysema, pneumonitis, sore chest, allergic asthma, post-infectious cough, pulmonary embolism, environmental allergies, interstitial lung disease\"\n",
    "}\n",
    "\n",
    "# Append keywords to the Description column based on D_Name\n",
    "df_tempr[\"Description\"] = df_tempr.apply(\n",
    "    lambda row: row[\"Description\"] + \", \" + disease_keywords.get(row[\"D_Name\"], \"\"), axis=1\n",
    ")\n",
    "\n",
    "# Save the updated CSV\n",
    "df_tempr.to_csv('updated_disease_with_description.csv', index=False)\n",
    "\n",
    "# Display the updated DataFrame\n",
    "print(df_tempr.head())\n"
   ]
  },
  {
   "cell_type": "code",
   "execution_count": 5,
   "id": "ed4cf96a-d1f5-4bb8-893b-fa706d2e4c37",
   "metadata": {},
   "outputs": [
    {
     "name": "stdout",
     "output_type": "stream",
     "text": [
      "Requirement already satisfied: pandas in c:\\users\\kishor\\anaconda3\\envs\\nlp_news\\lib\\site-packages (2.2.3)\n",
      "Requirement already satisfied: numpy>=1.23.2 in c:\\users\\kishor\\anaconda3\\envs\\nlp_news\\lib\\site-packages (from pandas) (1.24.2)\n",
      "Requirement already satisfied: python-dateutil>=2.8.2 in c:\\users\\kishor\\appdata\\roaming\\python\\python311\\site-packages (from pandas) (2.9.0.post0)\n",
      "Requirement already satisfied: pytz>=2020.1 in c:\\users\\kishor\\anaconda3\\envs\\nlp_news\\lib\\site-packages (from pandas) (2025.1)\n",
      "Requirement already satisfied: tzdata>=2022.7 in c:\\users\\kishor\\anaconda3\\envs\\nlp_news\\lib\\site-packages (from pandas) (2025.1)\n",
      "Requirement already satisfied: six>=1.5 in c:\\users\\kishor\\appdata\\roaming\\python\\python311\\site-packages (from python-dateutil>=2.8.2->pandas) (1.17.0)\n",
      "Note: you may need to restart the kernel to use updated packages.\n"
     ]
    },
    {
     "data": {
      "text/html": [
       "<div>\n",
       "<style scoped>\n",
       "    .dataframe tbody tr th:only-of-type {\n",
       "        vertical-align: middle;\n",
       "    }\n",
       "\n",
       "    .dataframe tbody tr th {\n",
       "        vertical-align: top;\n",
       "    }\n",
       "\n",
       "    .dataframe thead th {\n",
       "        text-align: right;\n",
       "    }\n",
       "</style>\n",
       "<table border=\"1\" class=\"dataframe\">\n",
       "  <thead>\n",
       "    <tr style=\"text-align: right;\">\n",
       "      <th></th>\n",
       "      <th>Description</th>\n",
       "      <th>main_disease</th>\n",
       "      <th>cleaned_text</th>\n",
       "    </tr>\n",
       "  </thead>\n",
       "  <tbody>\n",
       "    <tr>\n",
       "      <th>0</th>\n",
       "      <td>bone, muscle, ear, otitis, hearing, airway, me...</td>\n",
       "      <td>musculoskeletal</td>\n",
       "      <td>bone muscle ear otitis hearing airway membrane...</td>\n",
       "    </tr>\n",
       "    <tr>\n",
       "      <th>1</th>\n",
       "      <td>ear, otitis, hearing, nose, bleeding, sinusiti...</td>\n",
       "      <td>ear_nose</td>\n",
       "      <td>ear otitis hearing nose bleeding sinusitis ext...</td>\n",
       "    </tr>\n",
       "    <tr>\n",
       "      <th>2</th>\n",
       "      <td>ventilation, oxygen, airway, dyspnea, copd, br...</td>\n",
       "      <td>respiratory</td>\n",
       "      <td>ventilation oxygen airway dyspnea copd breathi...</td>\n",
       "    </tr>\n",
       "  </tbody>\n",
       "</table>\n",
       "</div>"
      ],
      "text/plain": [
       "                                         Description     main_disease  \\\n",
       "0  bone, muscle, ear, otitis, hearing, airway, me...  musculoskeletal   \n",
       "1  ear, otitis, hearing, nose, bleeding, sinusiti...         ear_nose   \n",
       "2  ventilation, oxygen, airway, dyspnea, copd, br...      respiratory   \n",
       "\n",
       "                                        cleaned_text  \n",
       "0  bone muscle ear otitis hearing airway membrane...  \n",
       "1  ear otitis hearing nose bleeding sinusitis ext...  \n",
       "2  ventilation oxygen airway dyspnea copd breathi...  "
      ]
     },
     "execution_count": 5,
     "metadata": {},
     "output_type": "execute_result"
    }
   ],
   "source": [
    "%pip install pandas\n",
    "import pandas as pd\n",
    "import numpy as np\n",
    "import pickle\n",
    "import re\n",
    "from sklearn.feature_extraction.text import TfidfVectorizer\n",
    "from sklearn.linear_model import LogisticRegression\n",
    "from sklearn.metrics.pairwise import cosine_similarity\n",
    "from sklearn.model_selection import train_test_split\n",
    "\n",
    "# Load stop words\n",
    "with open(r'D:\\SEM VI\\NLP\\NLP\\NLP\\data\\stop_words.ob', 'rb') as fp:\n",
    "    domain_stop_word = pickle.load(fp)\n",
    "\n",
    "# Load Main Disease Dataset\n",
    "df_main = pd.read_csv(r'D:\\SEM VI\\NLP\\NLP\\NLP\\data\\updated_disease_with_description.csv')\n",
    "\n",
    "# Preprocessing function\n",
    "def clean_text(text):\n",
    "    \n",
    "    \"\"\" this function clean & pre-process the data  \"\"\"\n",
    "\n",
    "    text = str(text)\n",
    "    text = text.lower()\n",
    "    # Clean the text\n",
    "    text = re.sub(r\"[^A-Za-z0-9^,!?.\\/'+]\", \" \", text)\n",
    "    text = re.sub(r\"\\+\", \" \", text)\n",
    "    text = re.sub(r\",\", \" \", text)\n",
    "    text = re.sub(r\"\\.\", \" \", text)\n",
    "    text = re.sub(r\"!\", \" \", text)\n",
    "    text = re.sub(r\"\\?\", \" \", text)\n",
    "    text = re.sub(r\"'\", \" \", text)\n",
    "    text = re.sub(r\":\", \" : \", text)\n",
    "    text = re.sub(r\"\\s{2,}\", \" \", text)\n",
    "    text = re.sub(r\"[0-9]\", \" \", text)\n",
    "    final_text = \"\"\n",
    "    for x in text.split():\n",
    "        if x not in domain_stop_word:\n",
    "            final_text = final_text + x  +\" \"\n",
    "    return final_text\n",
    "\n",
    "df_main['cleaned_text'] = df_main['Description'].apply(clean_text)\n",
    "df_main = df_main.rename(columns={'D_Name': 'main_disease'})\n",
    "df_main.head()"
   ]
  },
  {
   "cell_type": "code",
   "execution_count": 6,
   "id": "63607ea3",
   "metadata": {},
   "outputs": [
    {
     "data": {
      "text/html": [
       "<div>\n",
       "<style scoped>\n",
       "    .dataframe tbody tr th:only-of-type {\n",
       "        vertical-align: middle;\n",
       "    }\n",
       "\n",
       "    .dataframe tbody tr th {\n",
       "        vertical-align: top;\n",
       "    }\n",
       "\n",
       "    .dataframe thead th {\n",
       "        text-align: right;\n",
       "    }\n",
       "</style>\n",
       "<table border=\"1\" class=\"dataframe\">\n",
       "  <thead>\n",
       "    <tr style=\"text-align: right;\">\n",
       "      <th></th>\n",
       "      <th>Description</th>\n",
       "      <th>main_disease</th>\n",
       "      <th>cleaned_text</th>\n",
       "    </tr>\n",
       "  </thead>\n",
       "  <tbody>\n",
       "    <tr>\n",
       "      <th>0</th>\n",
       "      <td>bone, muscle, ear, otitis, hearing, airway, me...</td>\n",
       "      <td>musculoskeletal</td>\n",
       "      <td>bone muscle ear otitis hearing airway membrane...</td>\n",
       "    </tr>\n",
       "    <tr>\n",
       "      <th>1</th>\n",
       "      <td>ear, otitis, hearing, nose, bleeding, sinusiti...</td>\n",
       "      <td>ear_nose</td>\n",
       "      <td>ear otitis hearing nose bleeding sinusitis ext...</td>\n",
       "    </tr>\n",
       "    <tr>\n",
       "      <th>2</th>\n",
       "      <td>ventilation, oxygen, airway, dyspnea, copd, br...</td>\n",
       "      <td>respiratory</td>\n",
       "      <td>ventilation oxygen airway dyspnea copd breathi...</td>\n",
       "    </tr>\n",
       "  </tbody>\n",
       "</table>\n",
       "</div>"
      ],
      "text/plain": [
       "                                         Description     main_disease  \\\n",
       "0  bone, muscle, ear, otitis, hearing, airway, me...  musculoskeletal   \n",
       "1  ear, otitis, hearing, nose, bleeding, sinusiti...         ear_nose   \n",
       "2  ventilation, oxygen, airway, dyspnea, copd, br...      respiratory   \n",
       "\n",
       "                                        cleaned_text  \n",
       "0  bone muscle ear otitis hearing airway membrane...  \n",
       "1  ear otitis hearing nose bleeding sinusitis ext...  \n",
       "2  ventilation oxygen airway dyspnea copd breathi...  "
      ]
     },
     "execution_count": 6,
     "metadata": {},
     "output_type": "execute_result"
    }
   ],
   "source": [
    "df_main.head()"
   ]
  },
  {
   "cell_type": "code",
   "execution_count": 98,
   "id": "ab1c75e1-c7c2-451e-ac10-9289bc2703ec",
   "metadata": {},
   "outputs": [
    {
     "data": {
      "text/html": [
       "<div>\n",
       "<style scoped>\n",
       "    .dataframe tbody tr th:only-of-type {\n",
       "        vertical-align: middle;\n",
       "    }\n",
       "\n",
       "    .dataframe tbody tr th {\n",
       "        vertical-align: top;\n",
       "    }\n",
       "\n",
       "    .dataframe thead th {\n",
       "        text-align: right;\n",
       "    }\n",
       "</style>\n",
       "<table border=\"1\" class=\"dataframe\">\n",
       "  <thead>\n",
       "    <tr style=\"text-align: right;\">\n",
       "      <th></th>\n",
       "      <th>sub_disease</th>\n",
       "      <th>Description</th>\n",
       "    </tr>\n",
       "  </thead>\n",
       "  <tbody>\n",
       "    <tr>\n",
       "      <th>0</th>\n",
       "      <td>CLUBFOOT</td>\n",
       "      <td>Talipes equinovarus varies greatly in severity...</td>\n",
       "    </tr>\n",
       "    <tr>\n",
       "      <th>1</th>\n",
       "      <td>MUSCULAR DYSTROPHY</td>\n",
       "      <td>Although all four types of muscular dystrophy ...</td>\n",
       "    </tr>\n",
       "    <tr>\n",
       "      <th>2</th>\n",
       "      <td>SEPTIC ARTHRITIS</td>\n",
       "      <td>Acute septic arthritis begins abruptly, causin...</td>\n",
       "    </tr>\n",
       "    <tr>\n",
       "      <th>3</th>\n",
       "      <td>GOUT</td>\n",
       "      <td>Gout develops in four stages: asymptomatic, ac...</td>\n",
       "    </tr>\n",
       "    <tr>\n",
       "      <th>4</th>\n",
       "      <td>NEUROGENIC ARTHROPATHY</td>\n",
       "      <td>Neurogenic arthropathy begins insidiously with...</td>\n",
       "    </tr>\n",
       "  </tbody>\n",
       "</table>\n",
       "</div>"
      ],
      "text/plain": [
       "               sub_disease                                        Description\n",
       "0                 CLUBFOOT  Talipes equinovarus varies greatly in severity...\n",
       "1       MUSCULAR DYSTROPHY  Although all four types of muscular dystrophy ...\n",
       "2         SEPTIC ARTHRITIS  Acute septic arthritis begins abruptly, causin...\n",
       "3                     GOUT  Gout develops in four stages: asymptomatic, ac...\n",
       "4   NEUROGENIC ARTHROPATHY  Neurogenic arthropathy begins insidiously with..."
      ]
     },
     "execution_count": 98,
     "metadata": {},
     "output_type": "execute_result"
    }
   ],
   "source": [
    "df_temp = pd.read_excel('musculoskeletal.xlsx')\n",
    "df_temp.head()"
   ]
  },
  {
   "cell_type": "code",
   "execution_count": 5,
   "id": "2fab8df5-c0b6-4b73-ae16-55b929084e7d",
   "metadata": {},
   "outputs": [
    {
     "ename": "NameError",
     "evalue": "name 'TfidfVectorizer' is not defined",
     "output_type": "error",
     "traceback": [
      "\u001b[1;31m---------------------------------------------------------------------------\u001b[0m",
      "\u001b[1;31mNameError\u001b[0m                                 Traceback (most recent call last)",
      "Cell \u001b[1;32mIn[5], line 2\u001b[0m\n\u001b[0;32m      1\u001b[0m \u001b[38;5;66;03m# **1️⃣ Train TF-IDF for Main Diseases (For Cosine Similarity Matching)**\u001b[39;00m\n\u001b[1;32m----> 2\u001b[0m vectorizer_main \u001b[38;5;241m=\u001b[39m \u001b[43mTfidfVectorizer\u001b[49m()\n\u001b[0;32m      3\u001b[0m main_disease_texts \u001b[38;5;241m=\u001b[39m df_main[\u001b[38;5;124m'\u001b[39m\u001b[38;5;124mcleaned_text\u001b[39m\u001b[38;5;124m'\u001b[39m]\u001b[38;5;241m.\u001b[39mvalues\n\u001b[0;32m      4\u001b[0m vectorizer_main\u001b[38;5;241m.\u001b[39mfit(main_disease_texts)\n",
      "\u001b[1;31mNameError\u001b[0m: name 'TfidfVectorizer' is not defined"
     ]
    }
   ],
   "source": [
    "\n",
    "# **1️⃣ Train TF-IDF for Main Diseases (For Cosine Similarity Matching)**\n",
    "vectorizer_main = TfidfVectorizer()\n",
    "main_disease_texts = df_main['cleaned_text'].values\n",
    "vectorizer_main.fit(main_disease_texts)\n",
    "main_disease_vectors = vectorizer_main.transform(main_disease_texts)\n",
    "\n",
    "# **Save Main Disease TF-IDF Model**\n",
    "with open(\"vectorizer_main.pkl\", \"wb\") as f:\n",
    "    pickle.dump(vectorizer_main, f)\n",
    "with open(\"main_disease_vectors.pkl\", \"wb\") as f:\n",
    "    pickle.dump(main_disease_vectors, f)\n",
    "\n",
    "# **2️⃣ Train Separate TF-IDF + Logistic Regression for Each Sub-Disease Dataset**\n",
    "subdisease_models = {}\n",
    "\n",
    "for main_disease in df_main['main_disease'].unique():\n",
    "    sub_df = pd.read_excel(f\"{main_disease}.xlsx\")  # Load sub-disease dataset\n",
    "    sub_df['cleaned_text'] = sub_df['Description'].apply(clean_text)\n",
    "\n",
    "    # **Train a New TF-IDF Model for This Specific Main Disease**\n",
    "    vectorizer_sub = TfidfVectorizer()\n",
    "    X = vectorizer_sub.fit_transform(sub_df['cleaned_text'])  # Training on sub-disease descriptions\n",
    "    y = sub_df['sub_disease']\n",
    "\n",
    "    # **Split Data for Training**\n",
    "    X_train, X_test, y_train, y_test = train_test_split(X, y, test_size=0.2, random_state=42)\n",
    "    \n",
    "    # **Train Logistic Regression Model for This Sub-Disease**\n",
    "    model = LogisticRegression()\n",
    "    model.fit(X_train, y_train)\n",
    "\n",
    "    # **Save the TF-IDF & Model for This Main Disease**\n",
    "    with open(f\"{main_disease}_vectorizer.pkl\", \"wb\") as f:\n",
    "        pickle.dump(vectorizer_sub, f)\n",
    "    with open(f\"{main_disease}_model.pkl\", \"wb\") as f:\n",
    "        pickle.dump(model, f)\n",
    "\n",
    "    subdisease_models[main_disease] = model\n",
    "\n",
    "print(\"Training completed successfully!\")\n",
    "\n",
    "\n"
   ]
  },
  {
   "cell_type": "code",
   "execution_count": 9,
   "id": "d61c8f21-6a34-45a4-af0b-e06a62fca450",
   "metadata": {},
   "outputs": [
    {
     "name": "stderr",
     "output_type": "stream",
     "text": [
      "c:\\Users\\Kishor\\anaconda3\\envs\\nlp_news\\Lib\\site-packages\\sklearn\\base.py:380: InconsistentVersionWarning: Trying to unpickle estimator TfidfTransformer from version 1.5.1 when using version 1.6.1. This might lead to breaking code or invalid results. Use at your own risk. For more info please refer to:\n",
      "https://scikit-learn.org/stable/model_persistence.html#security-maintainability-limitations\n",
      "  warnings.warn(\n",
      "c:\\Users\\Kishor\\anaconda3\\envs\\nlp_news\\Lib\\site-packages\\sklearn\\base.py:380: InconsistentVersionWarning: Trying to unpickle estimator TfidfVectorizer from version 1.5.1 when using version 1.6.1. This might lead to breaking code or invalid results. Use at your own risk. For more info please refer to:\n",
      "https://scikit-learn.org/stable/model_persistence.html#security-maintainability-limitations\n",
      "  warnings.warn(\n"
     ]
    },
    {
     "name": "stdout",
     "output_type": "stream",
     "text": [
      "\n",
      "Cosine Similarity Scores:\n",
      "musculoskeletal: 0.1088\n",
      "ear_nose: 0.3738\n",
      "respiratory: 0.0000\n",
      "\n",
      "Predicted Main Disease: ear_nose\n",
      "\n",
      "Final Predicted Main Disease: ear_nose\n",
      "Final Predicted Sub-Disease: LABYRINTHITIS\n"
     ]
    },
    {
     "name": "stderr",
     "output_type": "stream",
     "text": [
      "c:\\Users\\Kishor\\anaconda3\\envs\\nlp_news\\Lib\\site-packages\\sklearn\\base.py:380: InconsistentVersionWarning: Trying to unpickle estimator LogisticRegression from version 1.5.1 when using version 1.6.1. This might lead to breaking code or invalid results. Use at your own risk. For more info please refer to:\n",
      "https://scikit-learn.org/stable/model_persistence.html#security-maintainability-limitations\n",
      "  warnings.warn(\n"
     ]
    }
   ],
   "source": [
    "from sklearn.feature_extraction.text import TfidfVectorizer\n",
    "# **3️⃣ Prediction Function**\n",
    "def predict_disease(user_input):\n",
    "    cleaned_input = clean_text(user_input)\n",
    "\n",
    "    with open(fr\"D:\\SEM VI\\NLP\\NLP\\NLP\\models\\vectorizers\\vectorizer_main.pkl\", \"rb\") as f:\n",
    "        vectorizer_main = pickle.load(f)\n",
    "    with open(fr\"D:\\SEM VI\\NLP\\NLP\\NLP\\models\\main_disease_vectors.pkl\", \"rb\") as f:\n",
    "        main_disease_vectors = pickle.load(f)\n",
    "    # **Load Main Disease TF-IDF and Compute Cosine Similarity**\n",
    "    input_vector = vectorizer_main.transform([cleaned_input])\n",
    "    similarity_scores = cosine_similarity(input_vector, main_disease_vectors)\n",
    "\n",
    "    # **Print Cosine Similarity Scores for All Main Diseases**\n",
    "    print(\"\\nCosine Similarity Scores:\")\n",
    "    for idx, disease in enumerate(df_main['main_disease']):\n",
    "        print(f\"{disease}: {similarity_scores[0][idx]:.4f}\")\n",
    "\n",
    "    # **Find Most Similar Main Disease**\n",
    "    main_disease_index = np.argmax(similarity_scores)\n",
    "    main_disease = df_main.iloc[main_disease_index]['main_disease']\n",
    "\n",
    "    print(f\"\\nPredicted Main Disease: {main_disease}\")\n",
    "\n",
    "    # **Load Sub-Disease TF-IDF and Model**\n",
    "    with open(fr\"D:\\SEM VI\\NLP\\NLP\\NLP\\models\\vectorizers\\{main_disease}_vectorizer.pkl\", \"rb\") as f:\n",
    "        vectorizer_sub = pickle.load(f)\n",
    "    with open(fr\"D:\\SEM VI\\NLP\\NLP\\NLP\\models\\subdisease_models\\{main_disease}_model.pkl\", \"rb\") as f:\n",
    "        model = pickle.load(f)\n",
    "#  D:\\SEM VI\\NLP\\NLP\\NLP\\models\\subdisease_models\\ear_nose_model.pkl\n",
    "#D:\\SEM VI\\NLP\\NLP\\NLP\\models\\vectorizers\\ear_nose_vectorizer.pkl\n",
    "    # **Predict Sub-Disease**\n",
    "    input_vector_sub = vectorizer_sub.transform([cleaned_input])\n",
    "    sub_disease = model.predict(input_vector_sub)[0]\n",
    "\n",
    "    return main_disease, sub_disease\n",
    "\n",
    "# **Example Input**\n",
    "user_symptoms = \"ear pain , hearing loss\"\n",
    "main_disease, sub_disease = predict_disease(user_symptoms)\n",
    "\n",
    "print(f\"\\nFinal Predicted Main Disease: {main_disease}\")\n",
    "print(f\"Final Predicted Sub-Disease: {sub_disease}\")"
   ]
  },
  {
   "cell_type": "code",
   "execution_count": null,
   "id": "59c33ccc",
   "metadata": {},
   "outputs": [],
   "source": []
  }
 ],
 "metadata": {
  "kernelspec": {
   "display_name": "nlp_news",
   "language": "python",
   "name": "python3"
  },
  "language_info": {
   "codemirror_mode": {
    "name": "ipython",
    "version": 3
   },
   "file_extension": ".py",
   "mimetype": "text/x-python",
   "name": "python",
   "nbconvert_exporter": "python",
   "pygments_lexer": "ipython3",
   "version": "3.11.11"
  }
 },
 "nbformat": 4,
 "nbformat_minor": 5
}
