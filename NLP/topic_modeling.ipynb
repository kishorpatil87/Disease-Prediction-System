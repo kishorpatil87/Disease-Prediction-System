{
 "cells": [
  {
   "cell_type": "markdown",
   "metadata": {},
   "source": [
    "### In this notebook we will perform the word embedding & topic modeling & Cosine Similarity\n",
    "\n",
    "***we merged the **three** chapters to perform the topic modeling, in order to perform cosine similarity to select which chapter the new input should go with.***"
   ]
  },
  {
   "cell_type": "code",
   "execution_count": 2,
   "metadata": {},
   "outputs": [],
   "source": [
    "import pandas as pd\n",
    "import numpy as np\n",
    "import pickle\n",
    "\n",
    "# gensim\n",
    "from gensim import corpora, models, similarities, matutils\n",
    "\n",
    "# sklearn\n",
    "from sklearn.feature_extraction.text import CountVectorizer, TfidfVectorizer\n",
    "from sklearn.decomposition import TruncatedSVD\n",
    "from sklearn.decomposition import NMF"
   ]
  },
  {
   "cell_type": "markdown",
   "metadata": {},
   "source": [
    "### Read the data and pickle file"
   ]
  },
  {
   "cell_type": "code",
   "execution_count": 3,
   "metadata": {},
   "outputs": [],
   "source": [
    "df02 = pd.read_csv('merged_file.csv')"
   ]
  },
  {
   "cell_type": "code",
   "execution_count": 4,
   "metadata": {},
   "outputs": [],
   "source": [
    "# reading the stop words list with pickle\n",
    "with open ('stop_words.ob', 'rb') as fp:\n",
    "    stop_words = pickle.load(fp)"
   ]
  },
  {
   "cell_type": "code",
   "execution_count": 5,
   "metadata": {},
   "outputs": [
    {
     "data": {
      "text/plain": [
       "Index(['string_values'], dtype='object')"
      ]
     },
     "execution_count": 5,
     "metadata": {},
     "output_type": "execute_result"
    }
   ],
   "source": [
    "df02.columns"
   ]
  },
  {
   "cell_type": "code",
   "execution_count": 6,
   "metadata": {},
   "outputs": [],
   "source": [
    "# Declare a list that is to be converted into a column\n",
    "ch_no = ['ear_nose', 'musculoskeletal', 'respiratory']\n",
    " \n",
    "# Using 'ch_no' as the column name\n",
    "# and equating it to the list\n",
    "df02['Ch_No'] = ch_no"
   ]
  },
  {
   "cell_type": "code",
   "execution_count": 7,
   "metadata": {},
   "outputs": [
    {
     "data": {
      "text/html": [
       "<div>\n",
       "<style scoped>\n",
       "    .dataframe tbody tr th:only-of-type {\n",
       "        vertical-align: middle;\n",
       "    }\n",
       "\n",
       "    .dataframe tbody tr th {\n",
       "        vertical-align: top;\n",
       "    }\n",
       "\n",
       "    .dataframe thead th {\n",
       "        text-align: right;\n",
       "    }\n",
       "</style>\n",
       "<table border=\"1\" class=\"dataframe\">\n",
       "  <thead>\n",
       "    <tr style=\"text-align: right;\">\n",
       "      <th></th>\n",
       "      <th>string_values</th>\n",
       "      <th>Ch_No</th>\n",
       "    </tr>\n",
       "  </thead>\n",
       "  <tbody>\n",
       "    <tr>\n",
       "      <th>0</th>\n",
       "      <td>ear nose introduction ear nose rarely prove ex...</td>\n",
       "      <td>ear_nose</td>\n",
       "    </tr>\n",
       "    <tr>\n",
       "      <th>1</th>\n",
       "      <td>introduction bone muscle ligament musculos sha...</td>\n",
       "      <td>musculoskeletal</td>\n",
       "    </tr>\n",
       "    <tr>\n",
       "      <th>2</th>\n",
       "      <td>introduction distribute addition oxygen remova...</td>\n",
       "      <td>respiratory</td>\n",
       "    </tr>\n",
       "  </tbody>\n",
       "</table>\n",
       "</div>"
      ],
      "text/plain": [
       "                                       string_values            Ch_No\n",
       "0  ear nose introduction ear nose rarely prove ex...         ear_nose\n",
       "1  introduction bone muscle ligament musculos sha...  musculoskeletal\n",
       "2  introduction distribute addition oxygen remova...      respiratory"
      ]
     },
     "execution_count": 7,
     "metadata": {},
     "output_type": "execute_result"
    }
   ],
   "source": [
    "df02"
   ]
  },
  {
   "cell_type": "markdown",
   "metadata": {},
   "source": [
    "### Word Embedding"
   ]
  },
  {
   "cell_type": "code",
   "execution_count": 8,
   "metadata": {},
   "outputs": [
    {
     "data": {
      "text/plain": [
       "0    ear nose introduction ear nose rarely prove ex...\n",
       "1    introduction bone muscle ligament musculos sha...\n",
       "2    introduction distribute addition oxygen remova...\n",
       "Name: string_values, dtype: object"
      ]
     },
     "execution_count": 8,
     "metadata": {},
     "output_type": "execute_result"
    }
   ],
   "source": [
    "df02['string_values']"
   ]
  },
  {
   "cell_type": "code",
   "execution_count": 9,
   "metadata": {},
   "outputs": [
    {
     "name": "stderr",
     "output_type": "stream",
     "text": [
      "c:\\Users\\Public\\Anaconda3\\envs\\py310\\lib\\site-packages\\sklearn\\feature_extraction\\text.py:402: UserWarning: Your stop_words may be inconsistent with your preprocessing. Tokenizing the stop words generated tokens ['10', 'avm', 'beta', 'containing', 'end', 'gram', 'http', 'jsp', 'leg', 'ms', 'onset', 'pathwaymedicine', 'pericarditis', 'satrophic', 'seal', 'segment', 'semi', 'sodium', 'tamponade', 'tavr_ucm_450827_article', 'wv9focgvziu'] not in stop_words.\n",
      "  warnings.warn(\n"
     ]
    }
   ],
   "source": [
    "# Create a CountVectorizer for parsing/counting words\n",
    "count_vectorizer = CountVectorizer(stop_words=stop_words)\n",
    "\n",
    "doc_word_cv = count_vectorizer.fit_transform(df02['string_values'])"
   ]
  },
  {
   "cell_type": "code",
   "execution_count": 10,
   "metadata": {},
   "outputs": [
    {
     "data": {
      "text/html": [
       "<div>\n",
       "<style scoped>\n",
       "    .dataframe tbody tr th:only-of-type {\n",
       "        vertical-align: middle;\n",
       "    }\n",
       "\n",
       "    .dataframe tbody tr th {\n",
       "        vertical-align: top;\n",
       "    }\n",
       "\n",
       "    .dataframe thead th {\n",
       "        text-align: right;\n",
       "    }\n",
       "</style>\n",
       "<table border=\"1\" class=\"dataframe\">\n",
       "  <thead>\n",
       "    <tr style=\"text-align: right;\">\n",
       "      <th></th>\n",
       "      <th>aap</th>\n",
       "      <th>abdomen</th>\n",
       "      <th>abdu</th>\n",
       "      <th>abduct</th>\n",
       "      <th>abducted</th>\n",
       "      <th>abducting</th>\n",
       "      <th>abduction</th>\n",
       "      <th>abductor</th>\n",
       "      <th>abgs</th>\n",
       "      <th>ability</th>\n",
       "      <th>...</th>\n",
       "      <th>ysis</th>\n",
       "      <th>ysitis</th>\n",
       "      <th>ze</th>\n",
       "      <th>zealand</th>\n",
       "      <th>zheng</th>\n",
       "      <th>zinc</th>\n",
       "      <th>zone</th>\n",
       "      <th>zoster</th>\n",
       "      <th>zygote</th>\n",
       "      <th>µm</th>\n",
       "    </tr>\n",
       "    <tr>\n",
       "      <th>Ch_No</th>\n",
       "      <th></th>\n",
       "      <th></th>\n",
       "      <th></th>\n",
       "      <th></th>\n",
       "      <th></th>\n",
       "      <th></th>\n",
       "      <th></th>\n",
       "      <th></th>\n",
       "      <th></th>\n",
       "      <th></th>\n",
       "      <th></th>\n",
       "      <th></th>\n",
       "      <th></th>\n",
       "      <th></th>\n",
       "      <th></th>\n",
       "      <th></th>\n",
       "      <th></th>\n",
       "      <th></th>\n",
       "      <th></th>\n",
       "      <th></th>\n",
       "      <th></th>\n",
       "    </tr>\n",
       "  </thead>\n",
       "  <tbody>\n",
       "    <tr>\n",
       "      <th>ear_nose</th>\n",
       "      <td>0</td>\n",
       "      <td>0</td>\n",
       "      <td>0</td>\n",
       "      <td>0</td>\n",
       "      <td>1</td>\n",
       "      <td>0</td>\n",
       "      <td>0</td>\n",
       "      <td>0</td>\n",
       "      <td>0</td>\n",
       "      <td>2</td>\n",
       "      <td>...</td>\n",
       "      <td>1</td>\n",
       "      <td>0</td>\n",
       "      <td>0</td>\n",
       "      <td>0</td>\n",
       "      <td>0</td>\n",
       "      <td>0</td>\n",
       "      <td>0</td>\n",
       "      <td>1</td>\n",
       "      <td>0</td>\n",
       "      <td>0</td>\n",
       "    </tr>\n",
       "    <tr>\n",
       "      <th>musculoskeletal</th>\n",
       "      <td>0</td>\n",
       "      <td>1</td>\n",
       "      <td>1</td>\n",
       "      <td>2</td>\n",
       "      <td>2</td>\n",
       "      <td>2</td>\n",
       "      <td>10</td>\n",
       "      <td>1</td>\n",
       "      <td>0</td>\n",
       "      <td>2</td>\n",
       "      <td>...</td>\n",
       "      <td>1</td>\n",
       "      <td>1</td>\n",
       "      <td>0</td>\n",
       "      <td>1</td>\n",
       "      <td>0</td>\n",
       "      <td>0</td>\n",
       "      <td>0</td>\n",
       "      <td>0</td>\n",
       "      <td>1</td>\n",
       "      <td>0</td>\n",
       "    </tr>\n",
       "    <tr>\n",
       "      <th>respiratory</th>\n",
       "      <td>1</td>\n",
       "      <td>1</td>\n",
       "      <td>0</td>\n",
       "      <td>0</td>\n",
       "      <td>0</td>\n",
       "      <td>0</td>\n",
       "      <td>0</td>\n",
       "      <td>0</td>\n",
       "      <td>1</td>\n",
       "      <td>5</td>\n",
       "      <td>...</td>\n",
       "      <td>0</td>\n",
       "      <td>0</td>\n",
       "      <td>1</td>\n",
       "      <td>1</td>\n",
       "      <td>1</td>\n",
       "      <td>1</td>\n",
       "      <td>6</td>\n",
       "      <td>0</td>\n",
       "      <td>0</td>\n",
       "      <td>5</td>\n",
       "    </tr>\n",
       "  </tbody>\n",
       "</table>\n",
       "<p>3 rows × 5568 columns</p>\n",
       "</div>"
      ],
      "text/plain": [
       "                 aap  abdomen  abdu  abduct  abducted  abducting  abduction  \\\n",
       "Ch_No                                                                         \n",
       "ear_nose           0        0     0       0         1          0          0   \n",
       "musculoskeletal    0        1     1       2         2          2         10   \n",
       "respiratory        1        1     0       0         0          0          0   \n",
       "\n",
       "                 abductor  abgs  ability  ...  ysis  ysitis  ze  zealand  \\\n",
       "Ch_No                                     ...                              \n",
       "ear_nose                0     0        2  ...     1       0   0        0   \n",
       "musculoskeletal         1     0        2  ...     1       1   0        1   \n",
       "respiratory             0     1        5  ...     0       0   1        1   \n",
       "\n",
       "                 zheng  zinc  zone  zoster  zygote  µm  \n",
       "Ch_No                                                   \n",
       "ear_nose             0     0     0       1       0   0  \n",
       "musculoskeletal      0     0     0       0       1   0  \n",
       "respiratory          1     1     6       0       0   5  \n",
       "\n",
       "[3 rows x 5568 columns]"
      ]
     },
     "execution_count": 10,
     "metadata": {},
     "output_type": "execute_result"
    }
   ],
   "source": [
    "pd.DataFrame(doc_word_cv.toarray(), index=df02['Ch_No'], columns = count_vectorizer.get_feature_names_out()).head()"
   ]
  },
  {
   "cell_type": "code",
   "execution_count": 11,
   "metadata": {},
   "outputs": [
    {
     "name": "stderr",
     "output_type": "stream",
     "text": [
      "c:\\Users\\Public\\Anaconda3\\envs\\py310\\lib\\site-packages\\sklearn\\feature_extraction\\text.py:402: UserWarning: Your stop_words may be inconsistent with your preprocessing. Tokenizing the stop words generated tokens ['10', 'avm', 'beta', 'containing', 'end', 'gram', 'http', 'jsp', 'leg', 'ms', 'onset', 'pathwaymedicine', 'pericarditis', 'satrophic', 'seal', 'segment', 'semi', 'sodium', 'tamponade', 'tavr_ucm_450827_article', 'wv9focgvziu'] not in stop_words.\n",
      "  warnings.warn(\n"
     ]
    }
   ],
   "source": [
    "# Create a TfidfVectorizer for parsing/counting words\n",
    "tfidf = TfidfVectorizer(stop_words=stop_words)\n",
    "\n",
    "doc_word_tfidf = tfidf.fit_transform(df02['string_values'])"
   ]
  },
  {
   "cell_type": "code",
   "execution_count": 12,
   "metadata": {},
   "outputs": [
    {
     "data": {
      "text/html": [
       "<div>\n",
       "<style scoped>\n",
       "    .dataframe tbody tr th:only-of-type {\n",
       "        vertical-align: middle;\n",
       "    }\n",
       "\n",
       "    .dataframe tbody tr th {\n",
       "        vertical-align: top;\n",
       "    }\n",
       "\n",
       "    .dataframe thead th {\n",
       "        text-align: right;\n",
       "    }\n",
       "</style>\n",
       "<table border=\"1\" class=\"dataframe\">\n",
       "  <thead>\n",
       "    <tr style=\"text-align: right;\">\n",
       "      <th></th>\n",
       "      <th>aap</th>\n",
       "      <th>abdomen</th>\n",
       "      <th>abdu</th>\n",
       "      <th>abduct</th>\n",
       "      <th>abducted</th>\n",
       "      <th>abducting</th>\n",
       "      <th>abduction</th>\n",
       "      <th>abductor</th>\n",
       "      <th>abgs</th>\n",
       "      <th>ability</th>\n",
       "      <th>...</th>\n",
       "      <th>ysis</th>\n",
       "      <th>ysitis</th>\n",
       "      <th>ze</th>\n",
       "      <th>zealand</th>\n",
       "      <th>zheng</th>\n",
       "      <th>zinc</th>\n",
       "      <th>zone</th>\n",
       "      <th>zoster</th>\n",
       "      <th>zygote</th>\n",
       "      <th>µm</th>\n",
       "    </tr>\n",
       "    <tr>\n",
       "      <th>Ch_No</th>\n",
       "      <th></th>\n",
       "      <th></th>\n",
       "      <th></th>\n",
       "      <th></th>\n",
       "      <th></th>\n",
       "      <th></th>\n",
       "      <th></th>\n",
       "      <th></th>\n",
       "      <th></th>\n",
       "      <th></th>\n",
       "      <th></th>\n",
       "      <th></th>\n",
       "      <th></th>\n",
       "      <th></th>\n",
       "      <th></th>\n",
       "      <th></th>\n",
       "      <th></th>\n",
       "      <th></th>\n",
       "      <th></th>\n",
       "      <th></th>\n",
       "      <th></th>\n",
       "    </tr>\n",
       "  </thead>\n",
       "  <tbody>\n",
       "    <tr>\n",
       "      <th>ear_nose</th>\n",
       "      <td>0.000000</td>\n",
       "      <td>0.000000</td>\n",
       "      <td>0.000000</td>\n",
       "      <td>0.000000</td>\n",
       "      <td>0.003086</td>\n",
       "      <td>0.000000</td>\n",
       "      <td>0.000000</td>\n",
       "      <td>0.000000</td>\n",
       "      <td>0.000000</td>\n",
       "      <td>0.004793</td>\n",
       "      <td>...</td>\n",
       "      <td>0.003086</td>\n",
       "      <td>0.000000</td>\n",
       "      <td>0.000000</td>\n",
       "      <td>0.000000</td>\n",
       "      <td>0.000000</td>\n",
       "      <td>0.000000</td>\n",
       "      <td>0.00000</td>\n",
       "      <td>0.004058</td>\n",
       "      <td>0.000000</td>\n",
       "      <td>0.000000</td>\n",
       "    </tr>\n",
       "    <tr>\n",
       "      <th>musculoskeletal</th>\n",
       "      <td>0.000000</td>\n",
       "      <td>0.003021</td>\n",
       "      <td>0.003972</td>\n",
       "      <td>0.007943</td>\n",
       "      <td>0.006041</td>\n",
       "      <td>0.007943</td>\n",
       "      <td>0.039717</td>\n",
       "      <td>0.003972</td>\n",
       "      <td>0.000000</td>\n",
       "      <td>0.004691</td>\n",
       "      <td>...</td>\n",
       "      <td>0.003021</td>\n",
       "      <td>0.003972</td>\n",
       "      <td>0.000000</td>\n",
       "      <td>0.003021</td>\n",
       "      <td>0.000000</td>\n",
       "      <td>0.000000</td>\n",
       "      <td>0.00000</td>\n",
       "      <td>0.000000</td>\n",
       "      <td>0.003972</td>\n",
       "      <td>0.000000</td>\n",
       "    </tr>\n",
       "    <tr>\n",
       "      <th>respiratory</th>\n",
       "      <td>0.004692</td>\n",
       "      <td>0.003568</td>\n",
       "      <td>0.000000</td>\n",
       "      <td>0.000000</td>\n",
       "      <td>0.000000</td>\n",
       "      <td>0.000000</td>\n",
       "      <td>0.000000</td>\n",
       "      <td>0.000000</td>\n",
       "      <td>0.004692</td>\n",
       "      <td>0.013855</td>\n",
       "      <td>...</td>\n",
       "      <td>0.000000</td>\n",
       "      <td>0.000000</td>\n",
       "      <td>0.004692</td>\n",
       "      <td>0.003568</td>\n",
       "      <td>0.004692</td>\n",
       "      <td>0.004692</td>\n",
       "      <td>0.02815</td>\n",
       "      <td>0.000000</td>\n",
       "      <td>0.000000</td>\n",
       "      <td>0.023458</td>\n",
       "    </tr>\n",
       "  </tbody>\n",
       "</table>\n",
       "<p>3 rows × 5568 columns</p>\n",
       "</div>"
      ],
      "text/plain": [
       "                      aap   abdomen      abdu    abduct  abducted  abducting  \\\n",
       "Ch_No                                                                          \n",
       "ear_nose         0.000000  0.000000  0.000000  0.000000  0.003086   0.000000   \n",
       "musculoskeletal  0.000000  0.003021  0.003972  0.007943  0.006041   0.007943   \n",
       "respiratory      0.004692  0.003568  0.000000  0.000000  0.000000   0.000000   \n",
       "\n",
       "                 abduction  abductor      abgs   ability  ...      ysis  \\\n",
       "Ch_No                                                     ...             \n",
       "ear_nose          0.000000  0.000000  0.000000  0.004793  ...  0.003086   \n",
       "musculoskeletal   0.039717  0.003972  0.000000  0.004691  ...  0.003021   \n",
       "respiratory       0.000000  0.000000  0.004692  0.013855  ...  0.000000   \n",
       "\n",
       "                   ysitis        ze   zealand     zheng      zinc     zone  \\\n",
       "Ch_No                                                                        \n",
       "ear_nose         0.000000  0.000000  0.000000  0.000000  0.000000  0.00000   \n",
       "musculoskeletal  0.003972  0.000000  0.003021  0.000000  0.000000  0.00000   \n",
       "respiratory      0.000000  0.004692  0.003568  0.004692  0.004692  0.02815   \n",
       "\n",
       "                   zoster    zygote        µm  \n",
       "Ch_No                                          \n",
       "ear_nose         0.004058  0.000000  0.000000  \n",
       "musculoskeletal  0.000000  0.003972  0.000000  \n",
       "respiratory      0.000000  0.000000  0.023458  \n",
       "\n",
       "[3 rows x 5568 columns]"
      ]
     },
     "execution_count": 12,
     "metadata": {},
     "output_type": "execute_result"
    }
   ],
   "source": [
    "pd.DataFrame(doc_word_tfidf.toarray(), index=df02['Ch_No'], columns = tfidf.get_feature_names_out()).head()"
   ]
  },
  {
   "cell_type": "markdown",
   "metadata": {},
   "source": [
    "### Topic Modeling: **LDA**"
   ]
  },
  {
   "cell_type": "code",
   "execution_count": 13,
   "metadata": {},
   "outputs": [],
   "source": [
    "# Convert sparse matrix of counts to a gensim corpus\n",
    "corpus = matutils.Sparse2Corpus(doc_word_cv)"
   ]
  },
  {
   "cell_type": "code",
   "execution_count": 14,
   "metadata": {},
   "outputs": [],
   "source": [
    "id2word = dict((v, k) for k, v in count_vectorizer.vocabulary_.items())"
   ]
  },
  {
   "cell_type": "code",
   "execution_count": 15,
   "metadata": {},
   "outputs": [],
   "source": [
    "# Create lda model (equivalent to \"fit\" in sklearn)\n",
    "lda = models.LdaModel(corpus=corpus, num_topics=3, id2word=id2word, passes=5)"
   ]
  },
  {
   "cell_type": "code",
   "execution_count": 16,
   "metadata": {},
   "outputs": [
    {
     "data": {
      "text/plain": [
       "[(0,\n",
       "  '0.000*\"abdu\" + 0.000*\"abdomen\" + 0.000*\"aap\" + 0.000*\"perfectly\" + 0.000*\"perception\" + 0.000*\"percussed\" + 0.000*\"percentage\" + 0.000*\"perforated\" + 0.000*\"perfor\" + 0.000*\"perforates\"'),\n",
       " (1,\n",
       "  '0.769*\"abdomen\" + 0.038*\"abdu\" + 0.017*\"aap\" + 0.000*\"perfectly\" + 0.000*\"perception\" + 0.000*\"percussed\" + 0.000*\"percentage\" + 0.000*\"perforated\" + 0.000*\"perfor\" + 0.000*\"perforates\"'),\n",
       " (2,\n",
       "  '0.502*\"abdu\" + 0.384*\"aap\" + 0.000*\"abdomen\" + 0.000*\"perfectly\" + 0.000*\"perception\" + 0.000*\"percussed\" + 0.000*\"percentage\" + 0.000*\"perforated\" + 0.000*\"perfor\" + 0.000*\"perforates\"')]"
      ]
     },
     "execution_count": 16,
     "metadata": {},
     "output_type": "execute_result"
    }
   ],
   "source": [
    "lda.print_topics(3)"
   ]
  },
  {
   "cell_type": "markdown",
   "metadata": {},
   "source": [
    "### Performing CorEx:"
   ]
  },
  {
   "cell_type": "code",
   "execution_count": 18,
   "metadata": {},
   "outputs": [],
   "source": [
    "from corextopic import corextopic as ct\n",
    "from corextopic import vis_topic as vt\n",
    "\n",
    "words = list(np.asarray(count_vectorizer.get_feature_names_out()))\n"
   ]
  },
  {
   "cell_type": "code",
   "execution_count": 19,
   "metadata": {},
   "outputs": [
    {
     "name": "stdout",
     "output_type": "stream",
     "text": [
      "WARNING: Some words never appear (or always appear)\n"
     ]
    },
    {
     "data": {
      "text/plain": [
       "<corextopic.corextopic.Corex at 0x21ec5053be0>"
      ]
     },
     "execution_count": 19,
     "metadata": {},
     "output_type": "execute_result"
    }
   ],
   "source": [
    "topic_model = ct.Corex(n_hidden=3, words=words, seed=1)\n",
    "topic_model.fit(doc_word_cv, words=words, docs=df02['string_values'])"
   ]
  },
  {
   "cell_type": "code",
   "execution_count": 20,
   "metadata": {},
   "outputs": [
    {
     "name": "stdout",
     "output_type": "stream",
     "text": [
      "0: aap,normalized,normalize,norm,nontension,nonsmoker,nonpurulent,nonmotile,noncardiac,nodosum\n",
      "1: jelly,outcome,creating,secr,otherwise,cream,crackling,secured,securely,sedation\n",
      "2: abdomen,instance,integrity,intensify,interruption,invade,invariably,inversion,involvement,keeping\n"
     ]
    }
   ],
   "source": [
    "topics = topic_model.get_topics()\n",
    "for n,topic in enumerate(topics):\n",
    "    topic_words,_,_ = zip(*topic)\n",
    "    print('{}: '.format(n) + ','.join(topic_words))"
   ]
  },
  {
   "cell_type": "markdown",
   "metadata": {},
   "source": [
    "### Topic Modeling: LSA"
   ]
  },
  {
   "cell_type": "code",
   "execution_count": 21,
   "metadata": {},
   "outputs": [
    {
     "name": "stdout",
     "output_type": "stream",
     "text": [
      "[0.04530854 0.5561219  0.39856955]\n"
     ]
    }
   ],
   "source": [
    "lsa = TruncatedSVD(3)\n",
    "doc_topic = lsa.fit_transform(doc_word_cv)\n",
    "print(lsa.explained_variance_ratio_)"
   ]
  },
  {
   "cell_type": "code",
   "execution_count": 22,
   "metadata": {},
   "outputs": [
    {
     "name": "stdout",
     "output_type": "stream",
     "text": [
      "              aap  abdomen   abdu  abduct  abducted  abducting  abduction  \\\n",
      "component0  0.001    0.003  0.002   0.004     0.005      0.004      0.018   \n",
      "component1  0.000   -0.002 -0.002  -0.004    -0.002     -0.004     -0.022   \n",
      "component2  0.004    0.003 -0.001  -0.002    -0.003     -0.002     -0.009   \n",
      "\n",
      "            abductor   abgs  ability  ...   ysis  ysitis     ze  zealand  \\\n",
      "component0     0.002  0.001    0.012  ...  0.003   0.002  0.001    0.003   \n",
      "component1    -0.002  0.000    0.003  ...  0.000  -0.002  0.000   -0.002   \n",
      "component2    -0.001  0.004    0.013  ... -0.002  -0.001  0.004    0.003   \n",
      "\n",
      "            zheng   zinc   zone  zoster  zygote     µm  \n",
      "component0  0.001  0.001  0.006   0.001   0.002  0.005  \n",
      "component1  0.000  0.000  0.003   0.002  -0.002  0.002  \n",
      "component2  0.004  0.004  0.021  -0.001  -0.001  0.018  \n",
      "\n",
      "[3 rows x 5568 columns]\n"
     ]
    }
   ],
   "source": [
    "topic_word = pd.DataFrame(lsa.components_.round(3),\n",
    "             index = ['component'+str(i) for i in range(3)],\n",
    "             columns = count_vectorizer.get_feature_names_out())\n",
    "\n",
    "print(topic_word)"
   ]
  },
  {
   "cell_type": "code",
   "execution_count": 23,
   "metadata": {},
   "outputs": [],
   "source": [
    "tem_list = [] \n",
    "def display_topics(model, feature_names, no_top_words, topic_names=None):\n",
    "    \n",
    "    for ix, topic in enumerate(model.components_):\n",
    "        inner_tem_list = []\n",
    "       \n",
    "        if not topic_names or not topic_names[ix]:\n",
    "            print(\"\\nTopic \", ix)\n",
    "        else:\n",
    "            print(\"\\nTopic: '\",topic_names[ix],\"'\")\n",
    "            \n",
    "        print(\", \".join([feature_names[i]\n",
    "                        for i in topic.argsort()[:-no_top_words - 1:-1]]))\n",
    "        inner_tem_list.append(\", \".join([feature_names[i] for i in topic.argsort()[:-no_top_words - 1:-1]]))\n",
    "        tem_list.append(inner_tem_list)"
   ]
  },
  {
   "cell_type": "code",
   "execution_count": 24,
   "metadata": {},
   "outputs": [
    {
     "name": "stdout",
     "output_type": "stream",
     "text": [
      "\n",
      "Topic  0\n",
      "bone, muscle, ear, otitis, hearing, airway, membrane, bleeding, sur, deformity, hip, obstruction, oxygen, gery, ventilation, cord, brace, attack, breathing, traction\n",
      "\n",
      "Topic  1\n",
      "ear, otitis, hearing, nose, bleeding, sinusitis, externa, membrane, obstruction, sinus, abscess, septum, ge, airway, cord, polyp, speech, voice, mouth, packing\n",
      "\n",
      "Topic  2\n",
      "ventilation, oxygen, airway, dyspnea, copd, breathing, acidosis, hg, crackle, artery, bronchiectasis, collapse, inspiration, cwp, silicosis, distress, ph, exertion, pleura, empyema\n"
     ]
    }
   ],
   "source": [
    "result1 = display_topics(lsa, count_vectorizer.get_feature_names_out(), 20)"
   ]
  },
  {
   "cell_type": "code",
   "execution_count": 25,
   "metadata": {},
   "outputs": [],
   "source": [
    "tem_list\n",
    "final_dic = {}\n",
    "final_dic[\"Bone\"] = tem_list[0]\n",
    "final_dic[\"Ear\"] = tem_list[1]\n",
    "final_dic[\"Breathing\"] = tem_list[2]"
   ]
  },
  {
   "cell_type": "code",
   "execution_count": 26,
   "metadata": {},
   "outputs": [
    {
     "data": {
      "text/plain": [
       "{'Bone': ['bone, muscle, ear, otitis, hearing, airway, membrane, bleeding, sur, deformity, hip, obstruction, oxygen, gery, ventilation, cord, brace, attack, breathing, traction'],\n",
       " 'Ear': ['ear, otitis, hearing, nose, bleeding, sinusitis, externa, membrane, obstruction, sinus, abscess, septum, ge, airway, cord, polyp, speech, voice, mouth, packing'],\n",
       " 'Breathing': ['ventilation, oxygen, airway, dyspnea, copd, breathing, acidosis, hg, crackle, artery, bronchiectasis, collapse, inspiration, cwp, silicosis, distress, ph, exertion, pleura, empyema']}"
      ]
     },
     "execution_count": 26,
     "metadata": {},
     "output_type": "execute_result"
    }
   ],
   "source": [
    "final_dic"
   ]
  },
  {
   "cell_type": "code",
   "execution_count": 27,
   "metadata": {},
   "outputs": [
    {
     "data": {
      "text/html": [
       "<div>\n",
       "<style scoped>\n",
       "    .dataframe tbody tr th:only-of-type {\n",
       "        vertical-align: middle;\n",
       "    }\n",
       "\n",
       "    .dataframe tbody tr th {\n",
       "        vertical-align: top;\n",
       "    }\n",
       "\n",
       "    .dataframe thead th {\n",
       "        text-align: right;\n",
       "    }\n",
       "</style>\n",
       "<table border=\"1\" class=\"dataframe\">\n",
       "  <thead>\n",
       "    <tr style=\"text-align: right;\">\n",
       "      <th></th>\n",
       "      <th>0</th>\n",
       "    </tr>\n",
       "  </thead>\n",
       "  <tbody>\n",
       "    <tr>\n",
       "      <th>Bone</th>\n",
       "      <td>bone, muscle, ear, otitis, hearing, airway, me...</td>\n",
       "    </tr>\n",
       "    <tr>\n",
       "      <th>Ear</th>\n",
       "      <td>ear, otitis, hearing, nose, bleeding, sinusiti...</td>\n",
       "    </tr>\n",
       "    <tr>\n",
       "      <th>Breathing</th>\n",
       "      <td>ventilation, oxygen, airway, dyspnea, copd, br...</td>\n",
       "    </tr>\n",
       "  </tbody>\n",
       "</table>\n",
       "</div>"
      ],
      "text/plain": [
       "                                                           0\n",
       "Bone       bone, muscle, ear, otitis, hearing, airway, me...\n",
       "Ear        ear, otitis, hearing, nose, bleeding, sinusiti...\n",
       "Breathing  ventilation, oxygen, airway, dyspnea, copd, br..."
      ]
     },
     "execution_count": 27,
     "metadata": {},
     "output_type": "execute_result"
    }
   ],
   "source": [
    "tem_df = pd.DataFrame.from_dict(final_dic, orient ='index') \n",
    "tem_df"
   ]
  },
  {
   "cell_type": "code",
   "execution_count": 28,
   "metadata": {},
   "outputs": [],
   "source": [
    "# Declare a list that is to be converted into a column\n",
    "d_name = ['musculoskeletal', 'ear_nose', 'respiratory']\n",
    " \n",
    "# Using 'ch_no' as the column name\n",
    "# and equating it to the list\n",
    "tem_df['D_Name'] = d_name"
   ]
  },
  {
   "cell_type": "code",
   "execution_count": 29,
   "metadata": {},
   "outputs": [
    {
     "data": {
      "text/plain": [
       "Index([0, 'D_Name'], dtype='object')"
      ]
     },
     "execution_count": 29,
     "metadata": {},
     "output_type": "execute_result"
    }
   ],
   "source": [
    "tem_df.columns"
   ]
  },
  {
   "cell_type": "code",
   "execution_count": 30,
   "metadata": {},
   "outputs": [
    {
     "data": {
      "text/html": [
       "<div>\n",
       "<style scoped>\n",
       "    .dataframe tbody tr th:only-of-type {\n",
       "        vertical-align: middle;\n",
       "    }\n",
       "\n",
       "    .dataframe tbody tr th {\n",
       "        vertical-align: top;\n",
       "    }\n",
       "\n",
       "    .dataframe thead th {\n",
       "        text-align: right;\n",
       "    }\n",
       "</style>\n",
       "<table border=\"1\" class=\"dataframe\">\n",
       "  <thead>\n",
       "    <tr style=\"text-align: right;\">\n",
       "      <th></th>\n",
       "      <th>Description</th>\n",
       "      <th>D_Name</th>\n",
       "    </tr>\n",
       "  </thead>\n",
       "  <tbody>\n",
       "    <tr>\n",
       "      <th>Bone</th>\n",
       "      <td>bone, muscle, ear, otitis, hearing, airway, me...</td>\n",
       "      <td>musculoskeletal</td>\n",
       "    </tr>\n",
       "    <tr>\n",
       "      <th>Ear</th>\n",
       "      <td>ear, otitis, hearing, nose, bleeding, sinusiti...</td>\n",
       "      <td>ear_nose</td>\n",
       "    </tr>\n",
       "    <tr>\n",
       "      <th>Breathing</th>\n",
       "      <td>ventilation, oxygen, airway, dyspnea, copd, br...</td>\n",
       "      <td>respiratory</td>\n",
       "    </tr>\n",
       "  </tbody>\n",
       "</table>\n",
       "</div>"
      ],
      "text/plain": [
       "                                                 Description           D_Name\n",
       "Bone       bone, muscle, ear, otitis, hearing, airway, me...  musculoskeletal\n",
       "Ear        ear, otitis, hearing, nose, bleeding, sinusiti...         ear_nose\n",
       "Breathing  ventilation, oxygen, airway, dyspnea, copd, br...      respiratory"
      ]
     },
     "execution_count": 30,
     "metadata": {},
     "output_type": "execute_result"
    }
   ],
   "source": [
    "tem_df = tem_df.rename(columns={0: 'Description'})\n",
    "tem_df"
   ]
  },
  {
   "cell_type": "code",
   "execution_count": 31,
   "metadata": {},
   "outputs": [],
   "source": [
    "tem_df.to_csv('diseases_with_description.csv', index=False)"
   ]
  },
  {
   "cell_type": "code",
   "execution_count": null,
   "metadata": {},
   "outputs": [],
   "source": []
  },
  {
   "cell_type": "code",
   "execution_count": null,
   "metadata": {},
   "outputs": [],
   "source": []
  }
 ],
 "metadata": {
  "kernelspec": {
   "display_name": "Python 3 (ipykernel)",
   "language": "python",
   "name": "python3"
  },
  "language_info": {
   "codemirror_mode": {
    "name": "ipython",
    "version": 3
   },
   "file_extension": ".py",
   "mimetype": "text/x-python",
   "name": "python",
   "nbconvert_exporter": "python",
   "pygments_lexer": "ipython3",
   "version": "3.12.7"
  }
 },
 "nbformat": 4,
 "nbformat_minor": 4
}
