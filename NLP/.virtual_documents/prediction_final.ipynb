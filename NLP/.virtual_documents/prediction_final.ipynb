df = df.pd.read_csv('disease_with_description')
df.head()


import pandas as pd
import numpy as np
import pickle
import re
from sklearn.feature_extraction.text import TfidfVectorizer
from sklearn.linear_model import LogisticRegression
from sklearn.metrics.pairwise import cosine_similarity
from sklearn.model_selection import train_test_split

# Load stop words
with open('stop_words.ob', 'rb') as fp:
    domain_stop_word = pickle.load(fp)

# Load Main Disease Dataset
df_main = pd.read_csv('main_diseases.csv')

# Preprocessing function
def clean_text(text):
    text = text.lower()
    text = re.sub(r'\W', ' ', text)
    text = re.sub(r'\s+', ' ', text)
    text = ' '.join([word for word in text.split() if word not in domain_stop_word])
    return text

df_main['cleaned_text'] = df_main['description'].apply(clean_text)

# Train TF-IDF Vectorizer for Main Diseases
vectorizer = TfidfVectorizer()
main_disease_texts = df_main['cleaned_text'].values
vectorizer.fit(main_disease_texts)
main_disease_vectors = vectorizer.transform(main_disease_texts)

# Save Vectorizer
with open("vectorizer.pkl", "wb") as f:
    pickle.dump(vectorizer, f)
with open("main_disease_vectors.pkl", "wb") as f:
    pickle.dump(main_disease_vectors, f)

# Train and Save Logistic Regression Models for Each Main Disease
subdisease_models = {}
for main_disease in df_main['main_disease'].unique():
    sub_df = pd.read_csv(f"{main_disease}_subdiseases.csv")
    sub_df['cleaned_text'] = sub_df['description'].apply(clean_text)
    
    X = vectorizer.transform(sub_df['cleaned_text'])
    y = sub_df['sub_disease']
    
    X_train, X_test, y_train, y_test = train_test_split(X, y, test_size=0.2, random_state=42)
    model = LogisticRegression()
    model.fit(X_train, y_train)
    
    subdisease_models[main_disease] = model
    
    # Save the trained model
    with open(f"{main_disease}_model.pkl", "wb") as f:
        pickle.dump(model, f)

def predict_disease(user_input):
    cleaned_input = clean_text(user_input)
    input_vector = vectorizer.transform([cleaned_input])
    
    # Predict Main Disease using Cosine Similarity
    similarity_scores = cosine_similarity(input_vector, main_disease_vectors)
    main_disease_index = np.argmax(similarity_scores)
    main_disease = df_main.iloc[main_disease_index]['main_disease']
    
    # Load the pre-trained sub-disease model
    with open(f"{main_disease}_model.pkl", "rb") as f:
        model = pickle.load(f)
    
    # Predict Sub-Disease
    sub_disease = model.predict(input_vector)[0]
    
    return main_disease, sub_disease

# Example Input
user_symptoms = "I have fever and sore throat"
main_disease, sub_disease = predict_disease(user_symptoms)
print(f"Predicted Main Disease: {main_disease}")
print(f"Predicted Sub-Disease: {sub_disease}")







